{
 "cells": [
  {
   "cell_type": "markdown",
   "id": "59c6a9fb",
   "metadata": {},
   "source": [
    "# LIBS"
   ]
  },
  {
   "cell_type": "code",
   "execution_count": null,
   "id": "231e140b",
   "metadata": {},
   "outputs": [],
   "source": [
    "import pandas as pd"
   ]
  },
  {
   "cell_type": "markdown",
   "id": "9dd0088e",
   "metadata": {},
   "source": [
    "# IMPORT"
   ]
  },
  {
   "cell_type": "code",
   "execution_count": null,
   "id": "ea5d8d15",
   "metadata": {},
   "outputs": [],
   "source": [
    "# lendo dados de 2022\n",
    "path2022 = \"C:\\\\Users\\\\SAMSUNG\\\\Downloads\\\\SPDadosCriminais_2022.xlsx\"\n",
    "first_semester_2022 = pd.read_excel(path2022, sheet_name=0)\n",
    "second_semester_2022 = pd.read_excel(path2022, sheet_name=1)"
   ]
  },
  {
   "cell_type": "code",
   "execution_count": 4,
   "id": "02c4542c",
   "metadata": {},
   "outputs": [],
   "source": [
    "# lendo dados de 2023\n",
    "path2023 = \"C:\\\\Users\\\\SAMSUNG\\\\Downloads\\\\SPDadosCriminais_2023.xlsx\"\n",
    "first_semester_2023 = pd.read_excel(path2023, sheet_name=0)\n",
    "second_semester_2023 = pd.read_excel(path2023, sheet_name=1)"
   ]
  },
  {
   "cell_type": "code",
   "execution_count": 5,
   "id": "8f3029ce",
   "metadata": {},
   "outputs": [],
   "source": [
    "# lendo dados de 2024\n",
    "path2024 = \"C:\\\\Users\\\\SAMSUNG\\\\Downloads\\\\SPDadosCriminais_2024.xlsx\"\n",
    "first_semester_2024 = pd.read_excel(path2024, sheet_name=0)\n",
    "second_semester_2024 = pd.read_excel(path2024, sheet_name=1)"
   ]
  },
  {
   "cell_type": "markdown",
   "id": "2bae7b13",
   "metadata": {},
   "source": [
    "# SAVE TO CSV"
   ]
  },
  {
   "cell_type": "code",
   "execution_count": null,
   "id": "b6731883",
   "metadata": {},
   "outputs": [],
   "source": [
    "# salvando csv\n",
    "\"\"\"csv é bem mais facil de manipular que xlsx, entao passo tudo para csv antes de começar a mexer nos dados em si\"\"\"\n",
    "\n",
    "first_semester_2022.to_csv(\"C:\\\\Users\\\\SAMSUNG\\\\OneDrive\\\\Documentos\\\\dados\\\\1st_2022\")\n",
    "second_semester_2022.to_csv(\"C:\\\\Users\\\\SAMSUNG\\\\OneDrive\\\\Documentos\\\\dados\\\\2nd_2022\")\n",
    "\n",
    "first_semester_2023.to_csv(\"C:\\\\Users\\\\SAMSUNG\\\\OneDrive\\\\Documentos\\\\dados\\\\1st_2023\")\n",
    "second_semester_2023.to_csv(\"C:\\\\Users\\\\SAMSUNG\\\\OneDrive\\\\Documentos\\\\dados\\\\2nd_2023\")\n",
    "\n",
    "first_semester_2024.to_csv(\"C:\\\\Users\\\\SAMSUNG\\\\OneDrive\\\\Documentos\\\\dados\\\\1st_2024\")\n",
    "second_semester_2024.to_csv(\"C:\\\\Users\\\\SAMSUNG\\\\OneDrive\\\\Documentos\\\\dados\\\\2nd_2024\")"
   ]
  }
 ],
 "metadata": {
  "kernelspec": {
   "display_name": "Python 3",
   "language": "python",
   "name": "python3"
  },
  "language_info": {
   "codemirror_mode": {
    "name": "ipython",
    "version": 3
   },
   "file_extension": ".py",
   "mimetype": "text/x-python",
   "name": "python",
   "nbconvert_exporter": "python",
   "pygments_lexer": "ipython3",
   "version": "3.13.2"
  }
 },
 "nbformat": 4,
 "nbformat_minor": 5
}
